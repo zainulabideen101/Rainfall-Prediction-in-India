{
 "cells": [
  {
   "cell_type": "code",
   "execution_count": null,
   "metadata": {},
   "outputs": [],
   "source": [
    "from sklearn.decomposition import PCA\n",
    "\n",
    "# We can exclude the 'YEAR' column from dimensionality reduction since it's not numeric\n",
    "X = df.drop(columns=['YEAR'])\n",
    "\n",
    "# Specify the number of components\n",
    "pca = PCA(n_components=None) \n",
    "\n",
    "# Fit PCA on data and transform it to reduce dimensionality\n",
    "X_pca = pca.fit_transform(X)\n",
    "\n",
    "# Print the explained variance ratio to see how much variance is retained by each component\n",
    "print(\"Explained Variance Ratio:\")\n",
    "print(pca.explained_variance_ratio_)"
   ]
  }
 ],
 "metadata": {
  "language_info": {
   "name": "python"
  },
  "orig_nbformat": 4
 },
 "nbformat": 4,
 "nbformat_minor": 2
}
