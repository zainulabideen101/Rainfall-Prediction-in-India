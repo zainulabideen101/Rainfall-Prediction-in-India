{
 "cells": [
  {
   "cell_type": "code",
   "execution_count": null,
   "metadata": {},
   "outputs": [],
   "source": [
    "import pandas as pd\n",
    "import matplotlib.pyplot as plt\n",
    "\n",
    "# Load your dataset\n",
    "data = pd.read_csv(\"your_dataset.csv\")\n",
    "\n",
    "# Univariate analysis for YEAR\n",
    "year_stats = data['YEAR'].describe()\n",
    "year_line_chart = data.plot(x='YEAR', y='ANNUAL')\n",
    "plt.title('Yearly Rainfall Trend')\n",
    "\n",
    "# Univariate analysis for Monthly Rainfall\n",
    "monthly_stats = data[['JAN', 'FEB', 'MAR', 'APR', 'MAY', 'JUN', 'JUL', 'AUG', 'SEP', 'OCT', 'NOV', 'DEC']].describe()\n",
    "data[['JAN', 'FEB', 'MAR', 'APR', 'MAY', 'JUN', 'JUL', 'AUG', 'SEP', 'OCT', 'NOV', 'DEC']].plot(kind='box')\n",
    "\n",
    "# Univariate analysis for ANNUAL\n",
    "annual_stats = data['ANNUAL'].describe()\n",
    "data['ANNUAL'].plot(kind='hist', bins=20)\n",
    "plt.title('Annual Rainfall Distribution')\n",
    "\n",
    "# Univariate analysis for Seasonal Rainfall\n",
    "seasonal_stats = data[['Jan-Feb', 'Mar-May', 'Jun-Sep', 'Oct-Dec']].describe()\n",
    "seasonal_stats.plot(kind='bar')\n",
    "plt.title('Seasonal Rainfall Contribution')"
   ]
  }
 ],
 "metadata": {
  "language_info": {
   "name": "python"
  },
  "orig_nbformat": 4
 },
 "nbformat": 4,
 "nbformat_minor": 2
}
